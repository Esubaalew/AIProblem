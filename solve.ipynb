{
 "cells": [
  {
   "metadata": {},
   "cell_type": "markdown",
   "source": [
    "# AI Principles and techniques Assignment\n",
    "\n",
    "| Name            | ID          |\n",
    "|-----------------|-------------|\n",
    "| Esubalew Chekol | GSR/6451/17 |\n"
   ],
   "id": "8a77807f92f26ee"
  },
  {
   "metadata": {},
   "cell_type": "markdown",
   "source": "# 1.\n",
   "id": "5faffa7619e55987"
  },
  {
   "metadata": {},
   "cell_type": "code",
   "source": [
    "def length_of_lis_dp(arr: list):\n",
    "    \"\"\"Dynamic Programming Implementation of Longest Increasing Subsequence (LIS) \"\"\"\n",
    "\n",
    "    n = len(arr)\n",
    "    if n == 0:\n",
    "        return 0\n",
    "\n",
    "\n",
    "    dp = [1] * n\n",
    "\n",
    "\n",
    "    for i in range(1, n):\n",
    "        for j in range(i):\n",
    "            if arr[j] < arr[i]:\n",
    "                dp[i] = max(dp[i], dp[j] + 1)\n",
    "\n",
    "\n",
    "    return max(dp)"
   ],
   "id": "4bfe9822a11b0f0f",
   "outputs": [],
   "execution_count": null
  },
  {
   "metadata": {
    "ExecuteTime": {
     "end_time": "2024-12-14T05:43:25.271920Z",
     "start_time": "2024-12-14T05:43:25.261760Z"
    }
   },
   "cell_type": "code",
   "outputs": [],
   "execution_count": 1,
   "source": [
    "\n",
    "def length_of_lis_binary_search(arr):\n",
    "    \"\"\"Binary Search Implementation of Longest Increasing Subsequence (LIS) \"\"\"\n",
    "    from bisect import bisect_left\n",
    "\n",
    "    sub = []\n",
    "\n",
    "    for x in arr:\n",
    "        pos = bisect_left(sub, x)\n",
    "        if pos == len(sub):\n",
    "            sub.append(x)\n",
    "        else:\n",
    "            sub[pos] = x\n",
    "\n",
    "    return len(sub)"
   ],
   "id": "4b1f990f8bbecb7d"
  },
  {
   "metadata": {
    "ExecuteTime": {
     "end_time": "2024-12-14T05:50:03.607091Z",
     "start_time": "2024-12-14T05:50:03.597629Z"
    }
   },
   "cell_type": "code",
   "source": [
    "# Testing them\n",
    "arr = [10, 22, 9, 33, 21, 50, 41, 60, 80]\n",
    "print(\"Length of LIS (DP):\", length_of_lis_dp(arr))\n",
    "print(\"Length of LIS (Binary Search):\", length_of_lis_binary_search(arr))\n"
   ],
   "id": "4acb8b5b890a1aa7",
   "outputs": [
    {
     "name": "stdout",
     "output_type": "stream",
     "text": [
      "Length of LIS (DP): 6\n",
      "Length of LIS (Binary Search): 6\n"
     ]
    }
   ],
   "execution_count": 3
  },
  {
   "metadata": {},
   "cell_type": "markdown",
   "source": [
    "# 2.\n",
    "## Backtracking Approach:\n",
    "\n",
    "Backtracking is a general algorithm for finding solutions to problems that can be expressed as a sequence of decisions. In the case of Sudoku, we make a decision by placing a number in an empty cell. If the placement is valid, we continue to the next empty cell. If it's not valid, we backtrack and try a different number."
   ],
   "id": "68f4b37dcd0539c1"
  },
  {
   "metadata": {
    "ExecuteTime": {
     "end_time": "2024-12-14T05:55:18.969564Z",
     "start_time": "2024-12-14T05:55:18.956499Z"
    }
   },
   "cell_type": "code",
   "source": [
    "def is_valid(board, row, col, num):\n",
    "    \"\"\"Checks if placing num at (row, col) is valid.\"\"\"\n",
    "    # Check row\n",
    "    for i in range(9):\n",
    "        if board[row][i] == num:\n",
    "            return False\n",
    "\n",
    "    # Check column\n",
    "    for i in range(9):\n",
    "        if board[i][col] == num:\n",
    "            return False\n",
    "\n",
    "    # Check 3x3 grid\n",
    "    start_row, start_col = 3 * (row // 3), 3 * (col // 3)\n",
    "    for i in range(3):\n",
    "        for j in range(3):\n",
    "            if board[start_row + i][start_col + j] == num:\n",
    "                return False\n",
    "\n",
    "    return True\n",
    "\n",
    "def solve_sudoku(board):\n",
    "    \"\"\"Solves a Sudoku puzzle using backtracking.\"\"\"\n",
    "    for row in range(9):\n",
    "        for col in range(9):\n",
    "            if board[row][col] == 0:\n",
    "                for num in range(1, 10):\n",
    "                    if is_valid(board, row, col, num):\n",
    "                        board[row][col] = num\n",
    "                        if solve_sudoku(board):\n",
    "                            return True\n",
    "                        board[row][col] = 0\n",
    "                return False\n",
    "    return True\n",
    "\n",
    "def print_board(board):\n",
    "    \"\"\"Prints the Sudoku board in a readable format.\"\"\"\n",
    "    for row in board:\n",
    "        print(\" \".join(str(num) if num != 0 else \".\" for num in row))\n"
   ],
   "id": "a833ce5fbb08866",
   "outputs": [],
   "execution_count": 4
  },
  {
   "metadata": {
    "ExecuteTime": {
     "end_time": "2024-12-14T05:55:24.247607Z",
     "start_time": "2024-12-14T05:55:24.158303Z"
    }
   },
   "cell_type": "code",
   "source": [
    "\n",
    "# Example board\n",
    "board = [\n",
    "    [5, 3, 0, 0, 7, 0, 0, 0, 0],\n",
    "    [6, 0, 0, 1, 9, 5, 0, 0, 0],\n",
    "    [0, 9, 8, 0, 0, 0, 0, 6, 0],\n",
    "    [8, 0, 0, 0, 6, 0, 0, 0, 3],\n",
    "    [4, 0, 0, 8, 0, 3, 0, 0, 1],\n",
    "    [7, 0, 0, 0, 2, 0, 0, 0, 6],\n",
    "    [0, 6, 0, 0, 0, 0, 2, 8, 0],\n",
    "    [0, 0, 0, 4, 1, 9, 0, 0, 5],\n",
    "    [0, 0, 0, 0, 8, 0, 0, 7, 9]\n",
    "]\n",
    "\n",
    "\n",
    "if solve_sudoku(board):\n",
    "    print_board(board)\n",
    "else:\n",
    "    print(\"No solution exists.\")\n"
   ],
   "id": "e5ec1e0637b906c4",
   "outputs": [
    {
     "name": "stdout",
     "output_type": "stream",
     "text": [
      "5 3 4 6 7 8 9 1 2\n",
      "6 7 2 1 9 5 3 4 8\n",
      "1 9 8 3 4 2 5 6 7\n",
      "8 5 9 7 6 1 4 2 3\n",
      "4 2 6 8 5 3 7 9 1\n",
      "7 1 3 9 2 4 8 5 6\n",
      "9 6 1 5 3 7 2 8 4\n",
      "2 8 7 4 1 9 6 3 5\n",
      "3 4 5 2 8 6 1 7 9\n"
     ]
    }
   ],
   "execution_count": 5
  },
  {
   "metadata": {},
   "cell_type": "markdown",
   "source": "# 3",
   "id": "157652c70d833474"
  },
  {
   "metadata": {
    "ExecuteTime": {
     "end_time": "2024-12-14T06:07:54.493142Z",
     "start_time": "2024-12-14T06:07:54.482668Z"
    }
   },
   "cell_type": "code",
   "source": [
    "def solve_n_queens(N):\n",
    "    \"\"\"Finds all solutions to the N-Queens problem for a given N.\"\"\"\n",
    "    solutions = []\n",
    "    board = [[0] * N for _ in range(N)]  # 2D board\n",
    "\n",
    "    # Sets to track columns and diagonals\n",
    "    cols = set()\n",
    "    diag1 = set()  # Main diagonals: row - col\n",
    "    diag2 = set()  # Anti-diagonals: row + col\n",
    "\n",
    "    def backtrack(row):\n",
    "        \"\"\"Recursive backtracking function to place queens.\"\"\"\n",
    "        if row == N:\n",
    "            solutions.append([row[:] for row in board])\n",
    "            return\n",
    "\n",
    "        for col in range(N):\n",
    "            if col in cols or (row - col) in diag1 or (row + col) in diag2:\n",
    "                continue\n",
    "\n",
    "            # Place the queen\n",
    "            board[row][col] = 1\n",
    "            cols.add(col)\n",
    "            diag1.add(row - col)\n",
    "            diag2.add(row + col)\n",
    "\n",
    "\n",
    "            backtrack(row + 1)\n",
    "\n",
    "            # Backtrack: remove the queen\n",
    "            board[row][col] = 0\n",
    "            cols.remove(col)\n",
    "            diag1.remove(row - col)\n",
    "            diag2.remove(row + col)\n",
    "\n",
    "    backtrack(0)\n",
    "    return solutions\n",
    "\n",
    "def print_solutions(solutions, N):\n",
    "    \"\"\"Prints all solutions in a readable board format.\"\"\"\n",
    "    for index, solution in enumerate(solutions, start=1):\n",
    "        print(f\"Solution {index}:\")\n",
    "        for row in solution:\n",
    "            print(\" \".join(\"Q\" if col else \".\" for col in row))\n",
    "        print(\"\\n\" + \"-\" * (2 * N - 1) + \"\\n\")"
   ],
   "id": "897e1e3ed0ae0319",
   "outputs": [],
   "execution_count": 10
  },
  {
   "metadata": {
    "ExecuteTime": {
     "end_time": "2024-12-14T06:08:01.100302Z",
     "start_time": "2024-12-14T06:08:01.095031Z"
    }
   },
   "cell_type": "code",
   "source": [
    "\n",
    "# Example usage:\n",
    "N = 4\n",
    "solutions = solve_n_queens(N)\n",
    "print(f\"Number of solutions: {len(solutions)}\\n\")\n",
    "print_solutions(solutions, N)\n"
   ],
   "id": "95db327c58f7ade5",
   "outputs": [
    {
     "name": "stdout",
     "output_type": "stream",
     "text": [
      "Number of solutions: 2\n",
      "\n",
      "Solution 1:\n",
      ". Q . .\n",
      ". . . Q\n",
      "Q . . .\n",
      ". . Q .\n",
      "\n",
      "-------\n",
      "\n",
      "Solution 2:\n",
      ". . Q .\n",
      "Q . . .\n",
      ". . . Q\n",
      ". Q . .\n",
      "\n",
      "-------\n",
      "\n"
     ]
    }
   ],
   "execution_count": 11
  },
  {
   "metadata": {},
   "cell_type": "markdown",
   "source": [
    "# 4\n",
    " The Word Ladder problem involves finding the shortest sequence of words, starting from a beginWord and ending at an endWord, such that each consecutive pair of words differs by only one letter.\n",
    "\n",
    "## Breadth-First Search (BFS) Approach\n",
    "\n",
    "We can solve this problem using a BFS approach. We treat each word as a node in a graph, and an edge exists between two words if they differ by one letter.\n",
    "\n"
   ],
   "id": "90bedda58593a6ec"
  },
  {
   "metadata": {
    "ExecuteTime": {
     "end_time": "2024-12-14T06:12:00.925023Z",
     "start_time": "2024-12-14T06:12:00.880880Z"
    }
   },
   "cell_type": "code",
   "source": [
    "from collections import deque\n",
    "\n",
    "def word_ladder(beginWord, endWord, wordList):\n",
    "    wordList = set(wordList)\n",
    "    queue = deque([(beginWord, 1)])\n",
    "    visited = set([beginWord])\n",
    "\n",
    "    while queue:\n",
    "        word, level = queue.popleft()\n",
    "        if word == endWord:\n",
    "            return level\n",
    "\n",
    "        for i in range(len(word)):\n",
    "            for char in 'abcdefghijklmnopqrstuvwxyz':\n",
    "                new_word = word[:i] + char + word[i+1:]\n",
    "                if new_word in wordList and new_word not in visited:\n",
    "                    visited.add(new_word)\n",
    "                    queue.append((new_word, level + 1))\n",
    "\n",
    "    return 0"
   ],
   "id": "8fb02c3981271e87",
   "outputs": [],
   "execution_count": 12
  },
  {
   "metadata": {
    "ExecuteTime": {
     "end_time": "2024-12-14T06:13:08.722148Z",
     "start_time": "2024-12-14T06:13:08.711053Z"
    }
   },
   "cell_type": "code",
   "source": [
    "# Testing with example\n",
    "beginWord = \"hit\"\n",
    "endWord = \"cog\"\n",
    "wordList = [\"hot\", \"dot\", \"dog\", \"lot\", \"log\", \"cog\"]\n",
    "\n",
    "result = word_ladder(beginWord, endWord, wordList)\n",
    "result  # Output: 5 (hit -> hot -> dot -> dog -> cog)\n"
   ],
   "id": "1f6f542541df933c",
   "outputs": [
    {
     "data": {
      "text/plain": [
       "5"
      ]
     },
     "execution_count": 13,
     "metadata": {},
     "output_type": "execute_result"
    }
   ],
   "execution_count": 13
  },
  {
   "metadata": {},
   "cell_type": "markdown",
   "source": "# 5\n",
   "id": "5407a0441dcc01b"
  },
  {
   "metadata": {
    "ExecuteTime": {
     "end_time": "2024-12-14T06:15:46.022731Z",
     "start_time": "2024-12-14T06:15:46.008738Z"
    }
   },
   "cell_type": "code",
   "source": [
    "def find_median_sorted_arrays(nums1, nums2):\n",
    "    \"\"\"\n",
    "    Finds the median of two sorted arrays.\n",
    "\n",
    "    Args:\n",
    "        nums1: The first sorted array.\n",
    "        nums2: The second sorted array.\n",
    "\n",
    "    Returns:\n",
    "        The median of the two sorted arrays.\n",
    "    \"\"\"\n",
    "\n",
    "    A, B = nums1, nums2\n",
    "    total = len(A) + len(B)\n",
    "    half = total // 2\n",
    "\n",
    "    if len(B) < len(A):\n",
    "        A, B = B, A\n",
    "\n",
    "    l, r = 0, len(A) - 1\n",
    "    while True:\n",
    "        i = (l + r) // 2\n",
    "        j = half - i - 2\n",
    "\n",
    "        Aleft = A[i] if i >= 0 else float('-infinity')\n",
    "        Aright = A[i + 1] if (i + 1) < len(A) else float('infinity')\n",
    "        Bleft = B[j] if j >= 0 else float('-infinity')\n",
    "        Bright = B[j + 1] if (j + 1) < len(B) else float('infinity')\n",
    "\n",
    "        # partition is correct\n",
    "        if Aleft <= Bright and Bleft <= Aright:\n",
    "            # odd case\n",
    "            if total % 2:\n",
    "                return min(Aright, Bright)\n",
    "            # even case\n",
    "            return (max(Aleft, Bleft) + min(Aright, Bright)) / 2\n",
    "        elif Aleft > Bright:\n",
    "            r = i - 1\n",
    "        else:\n",
    "            l = i + 1"
   ],
   "id": "8e992371fe00c73e",
   "outputs": [],
   "execution_count": 14
  },
  {
   "metadata": {
    "ExecuteTime": {
     "end_time": "2024-12-14T06:16:38.968322Z",
     "start_time": "2024-12-14T06:16:38.962345Z"
    }
   },
   "cell_type": "code",
   "source": [
    "# Example\n",
    "nums1 = [1, 3]\n",
    "nums2 = [2]\n",
    "print(find_median_sorted_arrays(nums1, nums2))  # Output: 2.0\n",
    "\n",
    "nums1 = [1, 2]\n",
    "nums2 = [3, 4]\n",
    "print(find_median_sorted_arrays(nums1, nums2))  # Output: 2.5\n"
   ],
   "id": "a931c244cbfca5fd",
   "outputs": [
    {
     "name": "stdout",
     "output_type": "stream",
     "text": [
      "2\n",
      "2.5\n"
     ]
    }
   ],
   "execution_count": 18
  },
  {
   "metadata": {},
   "cell_type": "markdown",
   "source": "# 6",
   "id": "af1dfff9dc5904df"
  },
  {
   "metadata": {
    "ExecuteTime": {
     "end_time": "2024-12-14T06:18:03.688222Z",
     "start_time": "2024-12-14T06:18:03.674568Z"
    }
   },
   "cell_type": "code",
   "source": [
    "def has_cycle_util(graph, v, visited, rec_stack):\n",
    "    \"\"\"\n",
    "    Recursive function to detect cycle in a directed graph.\n",
    "\n",
    "    Args:\n",
    "        graph: The graph represented as an adjacency list.\n",
    "        v: The current vertex.\n",
    "        visited: A set to keep track of visited vertices.\n",
    "        rec_stack: A set to keep track of vertices in the current recursion stack.\n",
    "\n",
    "    Returns:\n",
    "        True if a cycle is found, False otherwise.\n",
    "    \"\"\"\n",
    "\n",
    "    if v in rec_stack:\n",
    "        return True\n",
    "\n",
    "    if v in visited:\n",
    "        return False\n",
    "\n",
    "    visited.add(v)\n",
    "    rec_stack.add(v)\n",
    "\n",
    "    for neighbor in graph[v]:\n",
    "        if has_cycle_util(graph, neighbor, visited, rec_stack):\n",
    "            return True\n",
    "\n",
    "    rec_stack.remove(v)\n",
    "    return False\n",
    "\n",
    "def has_cycle(graph):\n",
    "    \"\"\"\n",
    "    Detects a cycle in a directed graph.\n",
    "\n",
    "    Args:\n",
    "        graph: The graph represented as an adjacency list.\n",
    "\n",
    "    Returns:\n",
    "        True if a cycle is found, False otherwise.\n",
    "    \"\"\"\n",
    "\n",
    "    visited = set()\n",
    "    rec_stack = set()\n",
    "    for node in graph:\n",
    "        if has_cycle_util(graph, node, visited, rec_stack):\n",
    "            return True\n",
    "    return False\n",
    "\n",
    "# Example usage:\n",
    "graph = {\n",
    "    0: [1],\n",
    "    1: [2],\n",
    "    2: [3],\n",
    "    3: [0]\n",
    "}\n",
    "\n",
    "if has_cycle(graph):\n",
    "    print(\"Cycle detected\")\n",
    "else:\n",
    "    print(\"No cycle detected\")"
   ],
   "id": "2bdeabb37cd7f3e",
   "outputs": [
    {
     "name": "stdout",
     "output_type": "stream",
     "text": [
      "Cycle detected\n"
     ]
    }
   ],
   "execution_count": 19
  }
 ],
 "metadata": {
  "kernelspec": {
   "display_name": "Python 3",
   "language": "python",
   "name": "python3"
  },
  "language_info": {
   "codemirror_mode": {
    "name": "ipython",
    "version": 2
   },
   "file_extension": ".py",
   "mimetype": "text/x-python",
   "name": "python",
   "nbconvert_exporter": "python",
   "pygments_lexer": "ipython2",
   "version": "2.7.6"
  }
 },
 "nbformat": 4,
 "nbformat_minor": 5
}
